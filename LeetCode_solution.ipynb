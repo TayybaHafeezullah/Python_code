{
 "cells": [
  {
   "cell_type": "code",
   "execution_count": null,
   "metadata": {},
   "outputs": [],
   "source": [
    "# Max depth LeetCode Solution\n",
    "\n",
    "def maxDepth(self, root: Optional[TreeNode]) -> int:\n",
    "        if root is None:\n",
    "            return 0\n",
    "        else:\n",
    "            ldepth = self.maxDepth(root.left)\n",
    "            rdepth = self.maxDepth(root.right)\n",
    "            if (ldepth > rdepth):\n",
    "                return ldepth + 1\n",
    "            else:\n",
    "                return rdepth + 1"
   ]
  },
  {
   "cell_type": "code",
   "execution_count": null,
   "metadata": {},
   "outputs": [],
   "source": [
    "# Find given tree is same or not\n",
    "def isSameTree(self, p: Optional[TreeNode], q: Optional[TreeNode]) -> bool:\n",
    "    \n",
    "        if p is None and q is None:\n",
    "            return True\n",
    "        if p is not None and q is not None:\n",
    "            return ((p.val == q.val) and \n",
    "            self.isSameTree(p.left,q.left) and \n",
    "            self.isSameTree(p.right,q.right))\n",
    "        return False"
   ]
  },
  {
   "cell_type": "code",
   "execution_count": null,
   "metadata": {},
   "outputs": [],
   "source": [
    "# Find Inorder Traversal\n",
    "def inorderTraversal(self, root: Optional[TreeNode]) -> List[int]:\n",
    "        if root is None:\n",
    "            return []\n",
    "        return self.inorderTraversal(root.left) + [root.val] \n",
    "        +  self.inorderTraversal(root.right)"
   ]
  },
  {
   "cell_type": "code",
   "execution_count": null,
   "metadata": {},
   "outputs": [],
   "source": [
    "# Find the index of the target value\n",
    "def twoSum(self, nums: List[int], target: int) -> List[int]:\n",
    "        d = {}\n",
    "        for i, num in enumerate(nums):\n",
    "            if target - num in d:\n",
    "                return [d[target - num], i]\n",
    "            d[num]=i"
   ]
  },
  {
   "cell_type": "code",
   "execution_count": null,
   "metadata": {},
   "outputs": [],
   "source": [
    "# find the palindrome number\n",
    "def isPalindrome(self, x: int) -> bool:\n",
    "        if x > 0:\n",
    "            return False\n",
    "        else:\n",
    "            return str(x) == str(x)[::-1]"
   ]
  },
  {
   "cell_type": "code",
   "execution_count": null,
   "metadata": {},
   "outputs": [],
   "source": [
    "# Find the roman number\n",
    "def romanToInt(self, s: str) -> int:\n",
    "        roman = {'I': 1, 'V': 5, 'X': 10, 'L': 50, 'C': 100, 'D': 500, 'M': 1000}\n",
    "        res = 0\n",
    "        for i in range(len(s)):\n",
    "            if i > 0 and roman[s[i]] > roman[s[i-1]]:\n",
    "                res = res + roman[s[i]]-2* roman[s[i-1]]\n",
    "            else:\n",
    "                res+=roman[s[i]]\n",
    "        return res"
   ]
  },
  {
   "cell_type": "code",
   "execution_count": null,
   "metadata": {},
   "outputs": [],
   "source": [
    "# Find the longest common prefix\n",
    "def longestCommonPrefix(self, strs: List[str]) -> str:\n",
    "        if not strs:\n",
    "            return \"\"\n",
    "        shrtest = min(strs,key=len)\n",
    "        for i,ch in enumerate(shrtest):\n",
    "            for j in strs:\n",
    "                if j[i] != ch:\n",
    "                    return shrtest[:i]\n",
    "        return shrtest"
   ]
  },
  {
   "cell_type": "code",
   "execution_count": null,
   "metadata": {},
   "outputs": [],
   "source": [
    "# find remove the element\n",
    "def removeElement(self, nums: List[int], val: int) -> int:\n",
    "        if not nums:\n",
    "            return 0\n",
    "        i = 0\n",
    "        for j in range(len(nums)):\n",
    "            if nums[j] != val:\n",
    "                nums[i] = nums[j]\n",
    "                i += 1\n",
    "        return i"
   ]
  },
  {
   "cell_type": "code",
   "execution_count": null,
   "metadata": {},
   "outputs": [],
   "source": [
    "# Length of last word\n",
    "def lengthOfLastWord(self, s: str) -> int:\n",
    "        return len(s.strip().split(\" \")[-1])"
   ]
  }
 ],
 "metadata": {
  "kernelspec": {
   "display_name": "Python 3",
   "language": "python",
   "name": "python3"
  },
  "language_info": {
   "name": "python",
   "version": "3.11.1 (tags/v3.11.1:a7a450f, Dec  6 2022, 19:58:39) [MSC v.1934 64 bit (AMD64)]"
  },
  "orig_nbformat": 4,
  "vscode": {
   "interpreter": {
    "hash": "c261aea317cc0286b3b3261fbba9abdec21eaa57589985bb7a274bf54d6cc0a7"
   }
  }
 },
 "nbformat": 4,
 "nbformat_minor": 2
}
